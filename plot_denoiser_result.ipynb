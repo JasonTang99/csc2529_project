{
 "cells": [
  {
   "cell_type": "code",
   "execution_count": 1,
   "metadata": {},
   "outputs": [
    {
     "data": {
      "text/plain": [
       "<All keys matched successfully>"
      ]
     },
     "execution_count": 1,
     "metadata": {},
     "output_type": "execute_result"
    }
   ],
   "source": [
    "from test_denoiser import test_acc, show_random_batch, evaluate_metrics\n",
    "from custom_dataset import get_dataloader\n",
    "from models.denoisers import DnCNN, REDNet20\n",
    "from utils import create_resnet\n",
    "import torch\n",
    "import matplotlib.pyplot as plt\n",
    "import numpy as np\n",
    "\n",
    "device = torch.device(\"cuda:0\" if torch.cuda.is_available() else \"cpu\")\n",
    "\n",
    "#mnist\n",
    "#dncnn\n",
    "mnist_denoiser1 = DnCNN(in_channels=3, out_channels=3, depth=7, hidden_channels=64, use_bias=False).to(device)\n",
    "mnist_denoiser1.load_state_dict(torch.load('./trained_denoisers/dncnn_mnist_mixed+gaussian.pth', map_location=device))\n",
    "#dae denoiser\n",
    "mnist_denoiser2 = REDNet20(in_channels=3, out_channels=3, use_bias=False).to(device)\n",
    "mnist_denoiser2.load_state_dict(torch.load('./trained_denoisers/dae_mnist_mixed+gaussian.pth', map_location=device))\n",
    "\n",
    "#cifar10\n",
    "#dncnn\n",
    "cifar10_denoiser1 = DnCNN(in_channels=3, out_channels=3, depth=7, hidden_channels=64, use_bias=False).to(device)\n",
    "cifar10_denoiser1.load_state_dict(torch.load('./trained_denoisers/dncnn_cifar10_mixed+gaussian.pth', map_location=device))\n",
    "cifar10_denoiser2 = DnCNN(in_channels=3, out_channels=3, depth=7, hidden_channels=64, use_bias=False).to(device)\n",
    "cifar10_denoiser2.load_state_dict(torch.load('./trained_denoisers/dncnn_cifar10_mixed.pth', map_location=device))\n",
    "cifar10_denoiser3 = DnCNN(in_channels=3, out_channels=3, depth=7, hidden_channels=64, use_bias=False).to(device)\n",
    "cifar10_denoiser3.load_state_dict(torch.load('./trained_denoisers/dncnn_cifar10_gaussian.pth', map_location=device))\n",
    "#dae\n",
    "cifar10_denoiser4 = REDNet20(in_channels=3, out_channels=3, use_bias=False).to(device)\n",
    "cifar10_denoiser4.load_state_dict(torch.load('./trained_denoisers/dae_cifar10_mixed+gaussian.pth', map_location=device))"
   ]
  },
  {
   "cell_type": "code",
   "execution_count": 2,
   "metadata": {},
   "outputs": [],
   "source": [
    "import pickle\n",
    "import os\n",
    "import seaborn as sns\n",
    "\n",
    "\n",
    "def run_attack(test_loader, net, denoisers, attack_mode, eps_range, norm):\n",
    "    #initialize result\n",
    "    result = {}\n",
    "    result['adv'] = []\n",
    "    for i in range(len(denoisers)):\n",
    "        result[f'dn{i+1}'] = []\n",
    "        \n",
    "    for eps in eps_range:\n",
    "        print(\"eps = \", eps)\n",
    "        accuracies = test_acc(net, denoisers, test_loader, attack_mode, norm, eps)\n",
    "        result['adv'].append(accuracies[1])\n",
    "        for i in range(len(denoisers)):\n",
    "            result[f'dn{i+1}'].append(accuracies[i+2])\n",
    "\n",
    "    return result\n",
    "\n",
    "def plot_mnist_result(result, attack, norm, eps_range, savefig=True, denoised2=True):\n",
    "\n",
    "    acc_list = unpack_dict(result)\n",
    "    sns.set_theme(style=\"darkgrid\")\n",
    "    plt.figure(figsize=(8,6))\n",
    "    plt.plot(eps_range, acc_list[0], marker='o', linewidth=1.5, markersize=3, label=\"No Denoiser\")\n",
    "    plt.plot(eps_range, acc_list[1], marker='o', linewidth=1.5, markersize=3, label=\"DnCNN - mixed\")\n",
    "\n",
    "    # if denoised2 and self_compare:\n",
    "    #     plt.plot(eps_range, acc_list[2], marker='o', linewidth=1.5, markersize=3, label=\"DnCNN - gaussian\")\n",
    "    #     plt.plot(eps_range, acc_list[2], marker='o', linewidth=1.5, markersize=3, label=\"DnCNN - fgsm + pgd\")\n",
    "        \n",
    "    if denoised2:\n",
    "        plt.plot(eps_range, acc_list[2], marker='o', linewidth=1.5, markersize=3, label=\"AutoEncoder - mixed\")\n",
    "\n",
    "    plt.legend(loc=\"upper right\")\n",
    "    plt.xlabel('epsilon')\n",
    "    plt.ylabel('model accuracy')\n",
    "    plt.title(f\"l-{norm} {attack} attack on MNIST\")\n",
    "    if savefig:\n",
    "        if not os.path.exists('denosier_attack_figures'): os.mkdir('denosier_attack_figures')\n",
    "        fig_name = f\"mnist_{attack}_l{norm}.png\"\n",
    "        plt.savefig(os.path.join('denosier_attack_figures', fig_name), dpi=500)\n",
    "\n",
    "    plt.show()\n",
    "\n",
    "def plot_cifar10_result(result, attack, norm, eps_range, savefig=True):\n",
    "\n",
    "    acc_list = unpack_dict(result)\n",
    "    sns.set_theme(style=\"darkgrid\")\n",
    "    plt.figure(figsize=(8,6))\n",
    "    plt.plot(eps_range, acc_list[0], marker='o', linewidth=1.5, markersize=3, label=\"No Denoiser\")\n",
    "    plt.plot(eps_range, acc_list[1], marker='o', linewidth=1.5, markersize=3, label=\"DnCNN - fgsm+pgd+gaussian\")\n",
    "    plt.plot(eps_range, acc_list[2], marker='o', linewidth=1.5, markersize=3, label=\"DnCNN - fgsm+pgd\")\n",
    "    plt.plot(eps_range, acc_list[3], marker='o', linewidth=1.5, markersize=3, label=\"DnCNN - gaussian\")\n",
    "    plt.plot(eps_range, acc_list[4], marker='o', linewidth=1.5, markersize=3, label=\"AutoEncoder - fgsm+pgd+gaussian\")\n",
    "\n",
    "    plt.legend(loc=\"upper right\")\n",
    "    plt.xlabel('epsilon')\n",
    "    plt.ylabel('model accuracy')\n",
    "    plt.title(f\"l-{norm} {attack} attack on CIFAR10\")\n",
    "    if savefig:\n",
    "        if not os.path.exists('denosier_attack_figures'): os.mkdir('denosier_attack_figures')\n",
    "        fig_name = f\"cifar10_{attack}_l{norm}.png\"\n",
    "        plt.savefig(os.path.join('denosier_attack_figures', fig_name), dpi=500)\n",
    "\n",
    "    plt.show()\n",
    "    \n",
    "\n",
    "def save_result(filename, result, root='denoiser_attack_results', overwrite=False):\n",
    "    if not os.path.exists(root): os.mkdir(root)\n",
    "\n",
    "    file_path = os.path.join(root, filename)\n",
    "    if os.path.exists(file_path) and (not overwrite):\n",
    "        print(\"Updating pickle file\")\n",
    "        prev_result = load_result(file_path)\n",
    "        prev_result.update(result)\n",
    "        result = prev_result\n",
    "        \n",
    "    with open(file_path, 'wb') as f:\n",
    "        pickle.dump(result, f, protocol=pickle.HIGHEST_PROTOCOL)\n",
    "\n",
    "\n",
    "def load_result(file_path):\n",
    "    if not os.path.exists(file_path):\n",
    "        raise ValueError(\"Results file not found.\")\n",
    "    \n",
    "    with open(file_path, \"rb\") as f:\n",
    "        result = pickle.load(f)\n",
    "    \n",
    "    return result\n",
    "\n",
    "\n",
    "def unpack_dict(result_dict):\n",
    "    acc_list = []\n",
    "    for key in result_dict:\n",
    "        acc = result_dict[key]\n",
    "        acc_list.append(acc)\n",
    "    return acc_list\n",
    "\n",
    "\n",
    "def load_model_data(dataset):\n",
    "    #vanilla resnet model\n",
    "    if dataset == 'mnist':\n",
    "        resnet = create_resnet(device=device, grayscale=True)\n",
    "        resnet.load_state_dict(torch.load('./trained_models/mnist/resnet18_2.0+0_BL.pth', map_location=device))\n",
    "        #dataset loader\n",
    "        train_loader, test_loader = get_dataloader(dataset='mnist', batch_size=64, sample_test=True)\n",
    "    elif dataset == 'cifar10':\n",
    "        resnet = create_resnet(device=device, grayscale=False)\n",
    "        resnet.load_state_dict(torch.load('./trained_models/cifar10/resnet18_2.0+0_BL.pth', map_location=device))\n",
    "\n",
    "        train_loader, test_loader = get_dataloader(dataset='cifar10', batch_size=64, sample_test=True)\n",
    "\n",
    "    print(len(train_loader.dataset))\n",
    "    print(len(test_loader.dataset))\n",
    "\n",
    "    return resnet, train_loader, test_loader\n",
    "\n",
    "    \n",
    "def run_denoiser_exp(dataset, denoisers, attacks=['fgsm', 'pgd', 'cw']):\n",
    "\n",
    "    print(f\"Running experiment on {dataset} ...\")\n",
    "    # load pretrained resnet and data\n",
    "    net, _, test_loader = load_model_data(dataset)\n",
    "    #l2 attack eps\n",
    "    l2_eps = [0.5, 1.0, 2.0, 3.5]\n",
    "    #linf attack eps\n",
    "    linf_eps = [x/256 for x in [2, 5, 10, 16]]\n",
    "\n",
    "    # run attack\n",
    "    for attack in attacks:\n",
    "        if attack == 'cw':\n",
    "            print(f\"\\nEvaluating {attack} attack ...\")\n",
    "            file_name = f\"{dataset}_{attack}.pkl\"\n",
    "            # l2 norm cw attack\n",
    "            result = run_attack(test_loader, net, denoisers, attack, l2_eps, norm=2)\n",
    "            save_result(file_name, result, overwrite=True)\n",
    "        else:\n",
    "            # l2 and linf norm for fgsm and pgd\n",
    "            for norm in [2, np.inf]:\n",
    "                print(f\"\\nEvaluating {attack} attack on l{norm} norm ...\")\n",
    "                file_name = f\"{dataset}_{attack}_l{str(norm)}.pkl\"\n",
    "                # get eps range\n",
    "                eps_range = l2_eps if norm == 2 else linf_eps\n",
    "                \n",
    "                result = run_attack(test_loader, net, denoisers, attack, eps_range, norm=norm)\n",
    "                save_result(file_name, result, overwrite=True)\n"
   ]
  },
  {
   "cell_type": "code",
   "execution_count": null,
   "metadata": {},
   "outputs": [],
   "source": [
    "# run mnist\n",
    "mnist_denoisers = [mnist_denoiser1, mnist_denoiser2]\n",
    "run_denoiser_exp(dataset='mnist', denoisers=mnist_denoisers)"
   ]
  },
  {
   "cell_type": "code",
   "execution_count": 3,
   "metadata": {},
   "outputs": [
    {
     "name": "stdout",
     "output_type": "stream",
     "text": [
      "Running experiment on cifar10 ...\n",
      "Files already downloaded and verified\n",
      "Files already downloaded and verified\n",
      "50000\n",
      "1024\n",
      "\n",
      "Evaluating cw attack ...\n",
      "eps =  0.5\n"
     ]
    },
    {
     "name": "stderr",
     "output_type": "stream",
     "text": [
      "100%|██████████| 16/16 [04:24<00:00, 16.54s/it]\n"
     ]
    },
    {
     "name": "stdout",
     "output_type": "stream",
     "text": [
      "Test Accuracy no attack: 0.7060546875\n",
      "Test Accuracy with cw attack: 0.197265625\n",
      "Test Accuracy with cw attack + denoiser1: 0.669921875\n",
      "Test Accuracy with cw attack + denoiser2: 0.6611328125\n",
      "Test Accuracy with cw attack + denoiser3: 0.6474609375\n",
      "Test Accuracy with cw attack + denoiser4: 0.6494140625\n",
      "eps =  1.0\n"
     ]
    },
    {
     "name": "stderr",
     "output_type": "stream",
     "text": [
      "100%|██████████| 16/16 [04:22<00:00, 16.40s/it]\n"
     ]
    },
    {
     "name": "stdout",
     "output_type": "stream",
     "text": [
      "Test Accuracy no attack: 0.7060546875\n",
      "Test Accuracy with cw attack: 0.14453125\n",
      "Test Accuracy with cw attack + denoiser1: 0.669921875\n",
      "Test Accuracy with cw attack + denoiser2: 0.6611328125\n",
      "Test Accuracy with cw attack + denoiser3: 0.6474609375\n",
      "Test Accuracy with cw attack + denoiser4: 0.6494140625\n",
      "eps =  2.0\n"
     ]
    },
    {
     "name": "stderr",
     "output_type": "stream",
     "text": [
      "100%|██████████| 16/16 [04:22<00:00, 16.40s/it]\n"
     ]
    },
    {
     "name": "stdout",
     "output_type": "stream",
     "text": [
      "Test Accuracy no attack: 0.7060546875\n",
      "Test Accuracy with cw attack: 0.14453125\n",
      "Test Accuracy with cw attack + denoiser1: 0.669921875\n",
      "Test Accuracy with cw attack + denoiser2: 0.6611328125\n",
      "Test Accuracy with cw attack + denoiser3: 0.6474609375\n",
      "Test Accuracy with cw attack + denoiser4: 0.6494140625\n",
      "eps =  3.5\n"
     ]
    },
    {
     "name": "stderr",
     "output_type": "stream",
     "text": [
      "100%|██████████| 16/16 [04:22<00:00, 16.39s/it]"
     ]
    },
    {
     "name": "stdout",
     "output_type": "stream",
     "text": [
      "Test Accuracy no attack: 0.7060546875\n",
      "Test Accuracy with cw attack: 0.14453125\n",
      "Test Accuracy with cw attack + denoiser1: 0.669921875\n",
      "Test Accuracy with cw attack + denoiser2: 0.6611328125\n",
      "Test Accuracy with cw attack + denoiser3: 0.6474609375\n",
      "Test Accuracy with cw attack + denoiser4: 0.6494140625\n"
     ]
    },
    {
     "name": "stderr",
     "output_type": "stream",
     "text": [
      "\n"
     ]
    }
   ],
   "source": [
    "# run cifar10\n",
    "cifar10_denoisers = [cifar10_denoiser1, cifar10_denoiser2, cifar10_denoiser3, cifar10_denoiser4]\n",
    "run_denoiser_exp(dataset='cifar10', denoisers=cifar10_denoisers, attacks=['cw'])"
   ]
  },
  {
   "cell_type": "code",
   "execution_count": null,
   "metadata": {},
   "outputs": [],
   "source": [
    "#plot mnist\n",
    "for attack in ['fgsm', 'pgd', 'cw']:\n",
    "    if attack == 'cw':\n",
    "        file_path = os.path.join('denoiser_attack_results', f\"mnist_{attack}.pkl\")\n",
    "        result = load_result(file_path)\n",
    "        plot_mnist_result(result, attack, '2', eps_range=[0.5, 1.0, 2.0, 3.5], savefig=True)\n",
    "    else:\n",
    "        file_path = os.path.join('denoiser_attack_results', f\"mnist_{attack}_linf.pkl\")\n",
    "        result = load_result(file_path)\n",
    "        plot_mnist_result(result, attack, 'inf', eps_range=[x/256 for x in [2, 5, 10, 16]], savefig=True)"
   ]
  },
  {
   "cell_type": "code",
   "execution_count": null,
   "metadata": {},
   "outputs": [],
   "source": [
    "#plot cifar10\n",
    "for attack in ['fgsm', 'pgd', 'cw']:\n",
    "    if attack == 'cw':\n",
    "        file_path = os.path.join('denoiser_attack_results', f\"cifar10_{attack}.pkl\")\n",
    "        result = load_result(file_path)\n",
    "        plot_cifar10_result(result, attack, '2', eps_range=[0.5, 1.0, 2.0, 3.5], savefig=True)\n",
    "    else:\n",
    "        #print(f\"\\nEvaluating {attack} attack on l{norm} norm ...\")\n",
    "        file_path = os.path.join('denoiser_attack_results', f\"cifar10_{attack}_linf.pkl\")\n",
    "        result = load_result(file_path)\n",
    "        plot_cifar10_result(result, attack, 'inf', eps_range=[x/256 for x in [2, 5, 10, 16]], savefig=True)"
   ]
  },
  {
   "cell_type": "code",
   "execution_count": null,
   "metadata": {},
   "outputs": [],
   "source": [
    "net, _, test_loader = load_model_data('cifar10')\n",
    "evaluate_metrics(net, cifar10_denoiser1, test_loader, attack='fgsm', norm=np.inf, eps=0.0625)\n",
    "evaluate_metrics(net, cifar10_denoiser1, test_loader, attack='pgd', norm=np.inf, eps=0.0625)"
   ]
  },
  {
   "cell_type": "code",
   "execution_count": null,
   "metadata": {},
   "outputs": [],
   "source": [
    "#show_random_batch(mnist_resnet, mnist_denoiser1, mnist_test_loader, attack='fgsm', norm=np.inf, eps=0.0625)\n",
    "net, _, test_loader = load_model_data('cifar10')\n",
    "show_random_batch(net, cifar10_denoiser1, test_loader, attack='fgsm', norm=np.inf, eps=0.0625, eval=True)\n",
    "show_random_batch(net, cifar10_denoiser1, test_loader, attack='pgd', norm=np.inf, eps=0.0625, eval=True)\n",
    "# show_random_batch(net, cifar10_denoiser1, test_loader, attack='cw', norm=2, eps=3.5, eval=True)"
   ]
  },
  {
   "cell_type": "code",
   "execution_count": null,
   "metadata": {},
   "outputs": [],
   "source": [
    "file_path = os.path.join('denoiser_attack_results', f\"cifar10_fgsm_linf.pkl\")\n",
    "result1 = load_result(file_path)\n",
    "file_path = os.path.join('denoiser_attack_results', f\"cifar10_pgd_linf.pkl\")\n",
    "result2 = load_result(file_path)\n",
    "list1 = unpack_dict(result1)\n",
    "list2 = unpack_dict(result2)\n",
    "l11 = np.array(list1[0])\n",
    "l12 = np.array(list1[1])\n",
    "l21 = np.array(list2[0])\n",
    "l22 = np.array(list2[1])\n",
    "print(np.mean(l12 - l11))\n",
    "print(np.mean(l22 - l21))"
   ]
  },
  {
   "cell_type": "code",
   "execution_count": null,
   "metadata": {},
   "outputs": [],
   "source": [
    "import torch\n",
    "x = torch.ones((4, 4)) / 2\n",
    "y = torch.ones((2, 3, 4, 4))\n",
    "yy = torch.randn_like(y[:, 0, :, :].unsqueeze(1))\n",
    "\n",
    "#print(x)\n",
    "z = x + y\n",
    "print(z.size())\n",
    "#print(z)\n",
    "print(y.shape[-1])\n",
    "print(y.shape[-2])\n",
    "print(yy.shape)"
   ]
  },
  {
   "cell_type": "code",
   "execution_count": null,
   "metadata": {},
   "outputs": [],
   "source": [
    "import torch\n",
    "x = torch.tensor([-0.2, 0.3, 1.5])\n",
    "print(torch.clamp(x, 0, 1))"
   ]
  },
  {
   "cell_type": "code",
   "execution_count": null,
   "metadata": {},
   "outputs": [],
   "source": [
    "import numpy as np\n",
    "\n",
    "a = np.array([1, 2, 3])\n",
    "b = np.array([4, 5, 6])\n",
    "print(a-b)\n",
    "print(np.sum(a-b))"
   ]
  },
  {
   "cell_type": "code",
   "execution_count": null,
   "metadata": {},
   "outputs": [],
   "source": [
    "x = {'a': [1,2], 'b': 2}\n",
    "y = {'a': [3,4], 'b': 4}\n",
    "print(x)\n",
    "x['a'] = y['a']\n",
    "print(x)"
   ]
  },
  {
   "cell_type": "code",
   "execution_count": null,
   "metadata": {},
   "outputs": [],
   "source": [
    "indices = torch.randperm(10000)[:1000]\n",
    "print(indices.size())"
   ]
  },
  {
   "cell_type": "code",
   "execution_count": null,
   "metadata": {},
   "outputs": [],
   "source": [
    "acc_list = np.zeros((3))\n",
    "print(acc_list)\n",
    "acc_list[0] += 1\n",
    "print(acc_list)"
   ]
  },
  {
   "cell_type": "code",
   "execution_count": null,
   "metadata": {},
   "outputs": [],
   "source": [
    "for norm in [2, np.inf]: print(str(norm))"
   ]
  },
  {
   "cell_type": "code",
   "execution_count": null,
   "metadata": {},
   "outputs": [],
   "source": [
    "a = torch.tensor([True, False, True])\n",
    "b = torch.tensor([1, 1, 1])\n",
    "c = torch.tensor([3, 3, 3])\n",
    "b[a] = c[a]\n",
    "print(b)"
   ]
  },
  {
   "cell_type": "code",
   "execution_count": null,
   "metadata": {},
   "outputs": [],
   "source": []
  }
 ],
 "metadata": {
  "kernelspec": {
   "display_name": "Python 3.9.13 ('csc2529')",
   "language": "python",
   "name": "python3"
  },
  "language_info": {
   "codemirror_mode": {
    "name": "ipython",
    "version": 3
   },
   "file_extension": ".py",
   "mimetype": "text/x-python",
   "name": "python",
   "nbconvert_exporter": "python",
   "pygments_lexer": "ipython3",
   "version": "3.9.13"
  },
  "orig_nbformat": 4,
  "vscode": {
   "interpreter": {
    "hash": "d2637bb17888edaadea17d95cdd490b6d3bb8a815c47871fe926aa395390a64d"
   }
  }
 },
 "nbformat": 4,
 "nbformat_minor": 2
}
