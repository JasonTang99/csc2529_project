{
 "cells": [
  {
   "cell_type": "code",
   "execution_count": 1,
   "metadata": {},
   "outputs": [],
   "source": [
    "from run_all import run\n",
    "\n",
    "import os\n",
    "import numpy as np\n",
    "import argparse\n",
    "import itertools\n",
    "from torchvision.transforms import InterpolationMode\n",
    "import pickle\n",
    "\n",
    "from parse_args import parse_args\n",
    "from attack import run_one_attack"
   ]
  },
  {
   "cell_type": "code",
   "execution_count": 2,
   "metadata": {},
   "outputs": [
    {
     "ename": "NameError",
     "evalue": "name 'InterpolationMode' is not defined",
     "output_type": "error",
     "traceback": [
      "\u001b[0;31m---------------------------------------------------------------------------\u001b[0m",
      "\u001b[0;31mNameError\u001b[0m                                 Traceback (most recent call last)",
      "Cell \u001b[0;32mIn [2], line 10\u001b[0m\n\u001b[1;32m      2\u001b[0m epsilons \u001b[39m=\u001b[39m [\u001b[39m0.25\u001b[39m, \u001b[39m0.5\u001b[39m, \u001b[39m1.0\u001b[39m, \u001b[39m1.5\u001b[39m, \u001b[39m2.0\u001b[39m, \u001b[39m3.0\u001b[39m]\n\u001b[1;32m      3\u001b[0m up_down_pairs \u001b[39m=\u001b[39m [\n\u001b[1;32m      4\u001b[0m     \u001b[39m# *[(0, i) for i in range(0, 4)],\u001b[39;00m\n\u001b[1;32m      5\u001b[0m     \u001b[39m# *[(i, 0) for i in range(1, 3)],\u001b[39;00m\n\u001b[1;32m      6\u001b[0m     (\u001b[39m2\u001b[39m, \u001b[39m3\u001b[39m)\n\u001b[1;32m      7\u001b[0m ]\n\u001b[1;32m      8\u001b[0m interpolations \u001b[39m=\u001b[39m [\n\u001b[1;32m      9\u001b[0m     \u001b[39m# InterpolationMode.NEAREST,\u001b[39;00m\n\u001b[0;32m---> 10\u001b[0m     InterpolationMode\u001b[39m.\u001b[39mBILINEAR,\n\u001b[1;32m     11\u001b[0m ]\n\u001b[1;32m     12\u001b[0m voting_methods \u001b[39m=\u001b[39m [\n\u001b[1;32m     13\u001b[0m     \u001b[39m'\u001b[39m\u001b[39msimple_avg\u001b[39m\u001b[39m'\u001b[39m,\n\u001b[1;32m     14\u001b[0m     \u001b[39m# 'weighted_avg',\u001b[39;00m\n\u001b[1;32m     15\u001b[0m     \u001b[39m# 'majority_vote',\u001b[39;00m\n\u001b[1;32m     16\u001b[0m     \u001b[39m# 'weighted_vote',\u001b[39;00m\n\u001b[1;32m     17\u001b[0m ]\n\u001b[1;32m     19\u001b[0m results \u001b[39m=\u001b[39m run(\n\u001b[1;32m     20\u001b[0m     dataset\u001b[39m=\u001b[39m\u001b[39m'\u001b[39m\u001b[39mmnist\u001b[39m\u001b[39m'\u001b[39m,\n\u001b[1;32m     21\u001b[0m     attack_type\u001b[39m=\u001b[39m\u001b[39m\"\u001b[39m\u001b[39mfgsm\u001b[39m\u001b[39m\"\u001b[39m,\n\u001b[0;32m   (...)\u001b[0m\n\u001b[1;32m     25\u001b[0m     voting_methods\u001b[39m=\u001b[39mvoting_methods,\n\u001b[1;32m     26\u001b[0m )\n",
      "\u001b[0;31mNameError\u001b[0m: name 'InterpolationMode' is not defined"
     ]
    }
   ],
   "source": [
    "# run attack\n",
    "epsilons = [0.25, 0.5, 1.0, 1.5, 2.0, 3.0]\n",
    "up_down_pairs = [\n",
    "    # *[(0, i) for i in range(0, 4)],\n",
    "    # *[(i, 0) for i in range(1, 3)],\n",
    "    (2, 3)\n",
    "]\n",
    "interpolations = [\n",
    "    # InterpolationMode.NEAREST,\n",
    "    InterpolationMode.BILINEAR,\n",
    "]\n",
    "voting_methods = [\n",
    "    'simple_avg',\n",
    "    # 'weighted_avg',\n",
    "    # 'majority_vote',\n",
    "    # 'weighted_vote',\n",
    "]\n",
    "\n",
    "results = run(\n",
    "    dataset='mnist',\n",
    "    attack_type=\"fgsm\",\n",
    "    epsilons=epsilons,\n",
    "    up_down_pairs=up_down_pairs,\n",
    "    interpolations=interpolations,\n",
    "    voting_methods=voting_methods,\n",
    ")"
   ]
  },
  {
   "cell_type": "code",
   "execution_count": null,
   "metadata": {},
   "outputs": [],
   "source": []
  }
 ],
 "metadata": {
  "kernelspec": {
   "display_name": "Python 3.8.0 64-bit ('3.8.0')",
   "language": "python",
   "name": "python3"
  },
  "language_info": {
   "codemirror_mode": {
    "name": "ipython",
    "version": 3
   },
   "file_extension": ".py",
   "mimetype": "text/x-python",
   "name": "python",
   "nbconvert_exporter": "python",
   "pygments_lexer": "ipython3",
   "version": "3.8.0"
  },
  "orig_nbformat": 4,
  "vscode": {
   "interpreter": {
    "hash": "15e8192faefa7c4df086f69d5df89c8d0b9f28f8905c5b10f9ee705b3f14aede"
   }
  }
 },
 "nbformat": 4,
 "nbformat_minor": 2
}
