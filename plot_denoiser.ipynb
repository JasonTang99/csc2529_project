{
 "cells": [
  {
   "cell_type": "code",
   "execution_count": 2,
   "metadata": {},
   "outputs": [],
   "source": [
    "from train_denoiser import img_to_numpy\n",
    "from test_denoiser import test_acc\n",
    "from custom_dataset import get_dataloader\n",
    "from models.denoisers import DnCNN, REDNet20\n",
    "from utils import create_resnet\n",
    "import torch\n",
    "import matplotlib.pyplot as plt\n",
    "import numpy as np\n",
    "from tqdm import tqdm\n",
    "\n",
    "device = torch.device(\"cuda:0\" if torch.cuda.is_available() else \"cpu\")\n",
    "\n",
    "attack_mode = ['fgsm', 'pgd']\n",
    "#l2 attack eps\n",
    "mnist_l2_eps = [0.25, 0.5, 1.0, 1.5, 2.0, 3.0]\n",
    "cifar_l2_eps = [0.1, 0.25, 0.5, 0.75, 1, 1.5]\n",
    "#linf attack eps\n",
    "mnist_linf_eps = [0.02, 0.05, 0.1, 0.15, 0.2, 0.25]\n",
    "cifar_linf_eps = [0.1, 0.25, 0.5, 0.75, 1, 1.5]\n",
    "\n",
    "#denoiser\n",
    "dncnn_denoiser = DnCNN(in_channels=3, out_channels=3, depth=7, hidden_channels=64, use_bias=False).to(device)\n",
    "dncnn_denoiser.load_state_dict(torch.load('./trained_denoisers/dncnn_mnist_mixed.pth', map_location=device))\n",
    "dae_denoiser = REDNet20(in_channels=3, out_channels=3, use_bias=False).to(device)\n",
    "dae_denoiser.load_state_dict(torch.load('./trained_denoisers/dae_mnist_mixed.pth', map_location=device))\n",
    "\n",
    "#vanilla net\n",
    "net = create_resnet(device=device)\n",
    "net.load_state_dict(torch.load('./trained_models/mnist/resnet18_2.0+0_BL.pth', map_location=device))\n",
    "\n",
    "_, test_loader = get_dataloader(dataset='mnist', batch_size=64, val=False)\n",
    "\n",
    "# test mnist\n",
    "def run_test(net, denoiser, attack_mode, eps_range, norm=2):\n",
    "\n",
    "    acc1 = []\n",
    "    acc2 = []\n",
    "    for eps in eps_range:\n",
    "        acc_orig, acc_adv, acc_denoised = test_acc(net, denoiser, test_loader, eps, norm, attack_mode)\n",
    "        acc1.append(acc_adv)\n",
    "        acc2.append(acc_denoised)\n",
    "    return acc1, acc2"
   ]
  },
  {
   "cell_type": "code",
   "execution_count": 3,
   "metadata": {},
   "outputs": [
    {
     "name": "stderr",
     "output_type": "stream",
     "text": [
      "100%|██████████| 157/157 [00:07<00:00, 21.98it/s]\n"
     ]
    },
    {
     "name": "stdout",
     "output_type": "stream",
     "text": [
      "Test Accuracy no attack: 0.9927\n",
      "Test Accuracy with fgsm attack: 0.9313\n",
      "Test Accuracy with fgsm attack + denoiser: 0.9913\n"
     ]
    },
    {
     "name": "stderr",
     "output_type": "stream",
     "text": [
      "100%|██████████| 157/157 [00:07<00:00, 19.83it/s]\n"
     ]
    },
    {
     "name": "stdout",
     "output_type": "stream",
     "text": [
      "Test Accuracy no attack: 0.9927\n",
      "Test Accuracy with fgsm attack: 0.8486\n",
      "Test Accuracy with fgsm attack + denoiser: 0.9918\n"
     ]
    },
    {
     "name": "stderr",
     "output_type": "stream",
     "text": [
      "100%|██████████| 157/157 [00:07<00:00, 20.31it/s]\n"
     ]
    },
    {
     "name": "stdout",
     "output_type": "stream",
     "text": [
      "Test Accuracy no attack: 0.9927\n",
      "Test Accuracy with fgsm attack: 0.6947\n",
      "Test Accuracy with fgsm attack + denoiser: 0.9915\n"
     ]
    },
    {
     "name": "stderr",
     "output_type": "stream",
     "text": [
      "100%|██████████| 157/157 [00:07<00:00, 20.23it/s]\n"
     ]
    },
    {
     "name": "stdout",
     "output_type": "stream",
     "text": [
      "Test Accuracy no attack: 0.9927\n",
      "Test Accuracy with fgsm attack: 0.5817\n",
      "Test Accuracy with fgsm attack + denoiser: 0.9909\n"
     ]
    },
    {
     "name": "stderr",
     "output_type": "stream",
     "text": [
      "100%|██████████| 157/157 [00:07<00:00, 20.18it/s]\n"
     ]
    },
    {
     "name": "stdout",
     "output_type": "stream",
     "text": [
      "Test Accuracy no attack: 0.9927\n",
      "Test Accuracy with fgsm attack: 0.5043\n",
      "Test Accuracy with fgsm attack + denoiser: 0.9903\n"
     ]
    },
    {
     "name": "stderr",
     "output_type": "stream",
     "text": [
      "100%|██████████| 157/157 [00:07<00:00, 20.29it/s]"
     ]
    },
    {
     "name": "stdout",
     "output_type": "stream",
     "text": [
      "Test Accuracy no attack: 0.9927\n",
      "Test Accuracy with fgsm attack: 0.4252\n",
      "Test Accuracy with fgsm attack + denoiser: 0.9861\n"
     ]
    },
    {
     "name": "stderr",
     "output_type": "stream",
     "text": [
      "\n"
     ]
    },
    {
     "data": {
      "image/png": "[encoded data removed]",
      "text/plain": [
       "<Figure size 640x480 with 1 Axes>"
      ]
     },
     "metadata": {},
     "output_type": "display_data"
    }
   ],
   "source": [
    "adv, denoised = run_test(net, dae_denoiser, 'fgsm', mnist_l2_eps, norm=2)\n",
    "plt.plot(mnist_l2_eps, adv, marker='o')\n",
    "plt.plot(mnist_l2_eps, denoised, marker='o')\n",
    "plt.show()"
   ]
  },
  {
   "cell_type": "code",
   "execution_count": 7,
   "metadata": {},
   "outputs": [
    {
     "name": "stderr",
     "output_type": "stream",
     "text": [
      "100%|██████████| 157/157 [00:08<00:00, 18.47it/s]\n"
     ]
    },
    {
     "name": "stdout",
     "output_type": "stream",
     "text": [
      "Test Accuracy no attack: 0.9927\n",
      "Test Accuracy with fgsm attack: 0.8251\n",
      "Test Accuracy with fgsm attack + denoiser: 0.99\n"
     ]
    },
    {
     "name": "stderr",
     "output_type": "stream",
     "text": [
      "100%|██████████| 157/157 [00:08<00:00, 19.31it/s]\n"
     ]
    },
    {
     "name": "stdout",
     "output_type": "stream",
     "text": [
      "Test Accuracy no attack: 0.9927\n",
      "Test Accuracy with fgsm attack: 0.5433\n",
      "Test Accuracy with fgsm attack + denoiser: 0.9915\n"
     ]
    },
    {
     "name": "stderr",
     "output_type": "stream",
     "text": [
      "100%|██████████| 157/157 [00:07<00:00, 20.16it/s]\n"
     ]
    },
    {
     "name": "stdout",
     "output_type": "stream",
     "text": [
      "Test Accuracy no attack: 0.9927\n",
      "Test Accuracy with fgsm attack: 0.3118\n",
      "Test Accuracy with fgsm attack + denoiser: 0.992\n"
     ]
    },
    {
     "name": "stderr",
     "output_type": "stream",
     "text": [
      "100%|██████████| 157/157 [00:08<00:00, 19.07it/s]\n"
     ]
    },
    {
     "name": "stdout",
     "output_type": "stream",
     "text": [
      "Test Accuracy no attack: 0.9927\n",
      "Test Accuracy with fgsm attack: 0.2454\n",
      "Test Accuracy with fgsm attack + denoiser: 0.9901\n"
     ]
    },
    {
     "name": "stderr",
     "output_type": "stream",
     "text": [
      "100%|██████████| 157/157 [00:08<00:00, 18.57it/s]\n"
     ]
    },
    {
     "name": "stdout",
     "output_type": "stream",
     "text": [
      "Test Accuracy no attack: 0.9927\n",
      "Test Accuracy with fgsm attack: 0.212\n",
      "Test Accuracy with fgsm attack + denoiser: 0.9597\n"
     ]
    },
    {
     "name": "stderr",
     "output_type": "stream",
     "text": [
      "100%|██████████| 157/157 [00:07<00:00, 19.69it/s]\n"
     ]
    },
    {
     "name": "stdout",
     "output_type": "stream",
     "text": [
      "Test Accuracy no attack: 0.9927\n",
      "Test Accuracy with fgsm attack: 0.1831\n",
      "Test Accuracy with fgsm attack + denoiser: 0.7769\n"
     ]
    },
    {
     "data": {
      "image/png": "[encoded data removed]",
      "text/plain": [
       "<Figure size 640x480 with 1 Axes>"
      ]
     },
     "metadata": {},
     "output_type": "display_data"
    }
   ],
   "source": [
    "adv, denoised = run_test(net, dncnn_denoiser, 'fgsm', mnist_linf_eps, norm=np.inf)\n",
    "plt.plot(mnist_l2_eps, adv, marker='o')\n",
    "plt.plot(mnist_l2_eps, denoised, marker='o')\n",
    "plt.show()"
   ]
  },
  {
   "cell_type": "code",
   "execution_count": 2,
   "metadata": {},
   "outputs": [
    {
     "name": "stderr",
     "output_type": "stream",
     "text": [
      "100%|██████████| 157/157 [01:01<00:00,  2.57it/s]\n"
     ]
    },
    {
     "name": "stdout",
     "output_type": "stream",
     "text": [
      "Test Accuracy no attack: 0.9927\n",
      "Test Accuracy with pgd attack: 0.8591\n",
      "Test Accuracy with pgd attack + denoiser: 0.9893\n"
     ]
    },
    {
     "name": "stderr",
     "output_type": "stream",
     "text": [
      "100%|██████████| 157/157 [00:58<00:00,  2.70it/s]\n"
     ]
    },
    {
     "name": "stdout",
     "output_type": "stream",
     "text": [
      "Test Accuracy no attack: 0.9927\n",
      "Test Accuracy with pgd attack: 0.8477\n",
      "Test Accuracy with pgd attack + denoiser: 0.9892\n"
     ]
    },
    {
     "name": "stderr",
     "output_type": "stream",
     "text": [
      "100%|██████████| 157/157 [01:00<00:00,  2.58it/s]\n"
     ]
    },
    {
     "name": "stdout",
     "output_type": "stream",
     "text": [
      "Test Accuracy no attack: 0.9927\n",
      "Test Accuracy with pgd attack: 0.8339\n",
      "Test Accuracy with pgd attack + denoiser: 0.9896\n"
     ]
    },
    {
     "name": "stderr",
     "output_type": "stream",
     "text": [
      "100%|██████████| 157/157 [01:00<00:00,  2.58it/s]\n"
     ]
    },
    {
     "name": "stdout",
     "output_type": "stream",
     "text": [
      "Test Accuracy no attack: 0.9927\n",
      "Test Accuracy with pgd attack: 0.8208\n",
      "Test Accuracy with pgd attack + denoiser: 0.9895\n"
     ]
    },
    {
     "name": "stderr",
     "output_type": "stream",
     "text": [
      "100%|██████████| 157/157 [01:00<00:00,  2.59it/s]\n"
     ]
    },
    {
     "name": "stdout",
     "output_type": "stream",
     "text": [
      "Test Accuracy no attack: 0.9927\n",
      "Test Accuracy with pgd attack: 0.8021\n",
      "Test Accuracy with pgd attack + denoiser: 0.9896\n"
     ]
    },
    {
     "name": "stderr",
     "output_type": "stream",
     "text": [
      "100%|██████████| 157/157 [01:00<00:00,  2.58it/s]"
     ]
    },
    {
     "name": "stdout",
     "output_type": "stream",
     "text": [
      "Test Accuracy no attack: 0.9927\n",
      "Test Accuracy with pgd attack: 0.7477\n",
      "Test Accuracy with pgd attack + denoiser: 0.9891\n"
     ]
    },
    {
     "name": "stderr",
     "output_type": "stream",
     "text": [
      "\n"
     ]
    },
    {
     "data": {
      "image/png": "[encoded data removed]",
      "text/plain": [
       "<Figure size 640x480 with 1 Axes>"
      ]
     },
     "metadata": {},
     "output_type": "display_data"
    }
   ],
   "source": [
    "adv, denoised = run_test(net, dncnn_denoiser, 'pgd', mnist_l2_eps, norm=2)\n",
    "plt.plot(mnist_l2_eps, adv, marker='o')\n",
    "plt.plot(mnist_l2_eps, denoised, marker='o')\n",
    "plt.show()"
   ]
  },
  {
   "cell_type": "code",
   "execution_count": null,
   "metadata": {},
   "outputs": [],
   "source": []
  }
 ],
 "metadata": {
  "kernelspec": {
   "display_name": "Python 3.9.13 ('csc2529')",
   "language": "python",
   "name": "python3"
  },
  "language_info": {
   "codemirror_mode": {
    "name": "ipython",
    "version": 3
   },
   "file_extension": ".py",
   "mimetype": "text/x-python",
   "name": "python",
   "nbconvert_exporter": "python",
   "pygments_lexer": "ipython3",
   "version": "3.9.13"
  },
  "orig_nbformat": 4,
  "vscode": {
   "interpreter": {
    "hash": "d2637bb17888edaadea17d95cdd490b6d3bb8a815c47871fe926aa395390a64d"
   }
  }
 },
 "nbformat": 4,
 "nbformat_minor": 2
}
